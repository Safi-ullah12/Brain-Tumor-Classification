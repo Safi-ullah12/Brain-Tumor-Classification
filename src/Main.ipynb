{
 "cells": [
  {
   "cell_type": "code",
   "execution_count": 1,
   "id": "8694d627",
   "metadata": {},
   "outputs": [
    {
     "ename": "ModuleNotFoundError",
     "evalue": "No module named 'model_utils'",
     "output_type": "error",
     "traceback": [
      "\u001b[1;31m---------------------------------------------------------------------------\u001b[0m",
      "\u001b[1;31mModuleNotFoundError\u001b[0m                       Traceback (most recent call last)",
      "Cell \u001b[1;32mIn[1], line 1\u001b[0m\n\u001b[1;32m----> 1\u001b[0m \u001b[38;5;28;01mfrom\u001b[39;00m \u001b[38;5;21;01mmodel_utils\u001b[39;00m \u001b[38;5;28;01mimport\u001b[39;00m setup_datagenerator,model_configs,train_model\n\u001b[0;32m      2\u001b[0m \u001b[38;5;28;01mfrom\u001b[39;00m \u001b[38;5;21;01mtensorflow\u001b[39;00m\u001b[38;5;21;01m.\u001b[39;00m\u001b[38;5;21;01mkeras\u001b[39;00m\u001b[38;5;21;01m.\u001b[39;00m\u001b[38;5;21;01mapplications\u001b[39;00m\u001b[38;5;21;01m.\u001b[39;00m\u001b[38;5;21;01mvgg16\u001b[39;00m \u001b[38;5;28;01mimport\u001b[39;00m preprocess_input \u001b[38;5;28;01mas\u001b[39;00m preprocess_vgg16\n\u001b[0;32m      3\u001b[0m \u001b[38;5;28;01mfrom\u001b[39;00m \u001b[38;5;21;01mEDA_origanal_preprocess\u001b[39;00m  \u001b[38;5;28;01mimport\u001b[39;00m plot_training_history\n",
      "\u001b[1;31mModuleNotFoundError\u001b[0m: No module named 'model_utils'"
     ]
    }
   ],
   "source": [
    "from model_utils import setup_datagenerator,model_configs,train_model\n",
    "from tensorflow.keras.applications.vgg16 import preprocess_input as preprocess_vgg16\n",
    "from EDA_origanal_preprocess  import plot_training_history\n",
    "import tensorflow as tf\n",
    "import gc\n",
    "from evaluation_utils import evaluate_model,plot_model_comparison"
   ]
  },
  {
   "cell_type": "code",
   "execution_count": null,
   "id": "2f8ebd03",
   "metadata": {},
   "outputs": [],
   "source": [
    "def main():\n",
    "    # Parameters\n",
    "    source_dir = \"\"\n",
    "    base_dir = \"\"  \n",
    "    result_dir = ''\n",
    "    image_size = (224,224)\n",
    "    val_ratio = 0.10\n",
    "    num_classes = 4\n",
    "    batch_size = 16\n",
    "\n",
    "    # directry\n",
    "    train_dir = ''\n",
    "    validation_dir = ''\n",
    "    test_dir = \"\"\n",
    "\n",
    "    print(\"=\",*50)\n",
    "    print(\"Setting up Data Generator\")\n",
    "    print(\"=\",*50)\n",
    "    train_gen,val_gen,test_gen =setup_datagenerator(train_dir=train_dir,\n",
    "    val_dir= validation_dir,\n",
    "    test_dir=test_dir,\n",
    "    preprocess_fn= preprocess_vgg16,\n",
    "    batch_size=batch_size,\n",
    "    image_size=image_size)\n",
    "\n",
    "\n",
    "       \n",
    "    \n",
    "    #Training Model (vgg16, vagg19 and inceptionv3)\n",
    "    model_scores = {}\n",
    "    for model_name, config in model_configs.items:\n",
    "        model, history = train_model(model_name,\n",
    "        config,\n",
    "        train_gen=train_gen,\n",
    "        val_gen=validation_dir,\n",
    "        train_dir= train_dir,\n",
    "        validation_dir= validation_dir,\n",
    "        test_dir=test_dir,\n",
    "        num_classes= num_classes)\n",
    "\n",
    "        # ploting training and validation history\n",
    "    plot_training_history(model_name=model,save_dir=result_dir)\n",
    "   \n",
    "   # Clean the Resourcess for new model training\n",
    "    tf.keras.backend.clear_session()\n",
    "    gc.collect()\n",
    "\n",
    "    # Evaluate the model performance\n",
    "    print(\"Evaluating model performence\")\n",
    "    class_names = list(train_gen.indices.keys())\n",
    "    test_accuracy,report =evaluate_model(model=model,\n",
    "                   test_generator=test_gen,\n",
    "                   model_name=model_name,\n",
    "                   class_names=class_names,\n",
    "                   save_dir=result_dir)\n",
    "    # Save model accuracy for latter comparison\n",
    "    model_scores[model_name] = test_accuracy\n",
    "    print(report)\n",
    "    plot_model_comparison(model_scores=model_scores,save_dir=result_dir)\n",
    "    print(\"\\n\" + \"=\"*50)\n",
    "    print(\"Pipeline completed successfully!\")\n",
    "    print(f\"Processed dataset saved to: {base_dir}\")\n",
    "    print(f\"Visualization results saved to: {result_dir}\")\n",
    "    print(\"=\"*50)\n",
    "\n",
    "    \n",
    "    \n",
    "    \n",
    "\n",
    "\n",
    "\n",
    "\n",
    "    \n",
    "    \n",
    "\n",
    "    "
   ]
  },
  {
   "cell_type": "code",
   "execution_count": null,
   "id": "88561063",
   "metadata": {},
   "outputs": [],
   "source": []
  }
 ],
 "metadata": {
  "kernelspec": {
   "display_name": "base",
   "language": "python",
   "name": "python3"
  },
  "language_info": {
   "codemirror_mode": {
    "name": "ipython",
    "version": 3
   },
   "file_extension": ".py",
   "mimetype": "text/x-python",
   "name": "python",
   "nbconvert_exporter": "python",
   "pygments_lexer": "ipython3",
   "version": "3.11.7"
  }
 },
 "nbformat": 4,
 "nbformat_minor": 5
}
