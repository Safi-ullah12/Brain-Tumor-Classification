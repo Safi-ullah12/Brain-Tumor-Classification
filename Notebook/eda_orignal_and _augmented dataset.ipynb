{
 "cells": [
  {
   "cell_type": "markdown",
   "id": "12be1908",
   "metadata": {},
   "source": [
    "# **Create A function that perfom EDA on both training and augmented  dataSet**"
   ]
  },
  {
   "cell_type": "markdown",
   "id": "883385a0",
   "metadata": {},
   "source": []
  },
  {
   "cell_type": "code",
   "execution_count": null,
   "id": "254d4da0",
   "metadata": {
    "vscode": {
     "languageId": "plaintext"
    }
   },
   "outputs": [],
   "source": []
  }
 ],
 "metadata": {
  "language_info": {
   "name": "python"
  }
 },
 "nbformat": 4,
 "nbformat_minor": 5
}
