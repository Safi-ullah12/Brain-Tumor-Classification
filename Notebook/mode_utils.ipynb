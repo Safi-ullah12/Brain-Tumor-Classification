{
 "cells": [
  {
   "cell_type": "markdown",
   "id": "0bcdf899",
   "metadata": {},
   "source": [
    "  # **Prepart the data for the models**"
   ]
  },
  {
   "cell_type": "code",
   "execution_count": 12,
   "id": "d33ef875",
   "metadata": {},
   "outputs": [],
   "source": [
    "# model_utils.py\n",
    "from tensorflow.keras.preprocessing.image import ImageDataGenerator\n",
    "from tensorflow.keras.applications.vgg16 import preprocess_input\n",
    "\n",
    "\n",
    "def setup_datagenerator(train_dir, val_dir, test_dir, preprocess_fn, batch_size=16, image_size=(224, 224)):\n",
    "    \"\"\"\n",
    "    Create and configure data generators for the model.\n",
    "    \n",
    "    Parameters:\n",
    "    - train_dir: Path to training data directory\n",
    "    - val_dir: Path to validation data directory\n",
    "    - test_dir: Path to test data directory\n",
    "    - preprocess_fn: Preprocessing function to apply to images\n",
    "    - batch_size: Batch size for generators (default: 32)\n",
    "    - image_size: Target image size as (height, width) (default: (224, 224))\n",
    "    \n",
    "    Returns:\n",
    "    - train_generator: Training data generator\n",
    "    - validation_generator: Validation data generator\n",
    "    - test_generator: Test data generator\n",
    "    \"\"\"\n",
    "    # Create data generators with appropriate preprocessing\n",
    "    train_datagen = ImageDataGenerator(\n",
    "        rescale=1./255,\n",
    "        preprocessing_function=preprocess_fn\n",
    "    )\n",
    "    \n",
    "    # Validation and test generators don't need rescaling if preprocess_fn handles it\n",
    "    val_datagen = ImageDataGenerator(preprocessing_function=preprocess_fn)\n",
    "    test_datagen = ImageDataGenerator(preprocessing_function=preprocess_fn)\n",
    "    \n",
    "    # Create generators\n",
    "    train_generator = train_datagen.flow_from_directory(\n",
    "        train_dir,\n",
    "        target_size=image_size,\n",
    "        batch_size=batch_size,\n",
    "        class_mode='categorical',\n",
    "        shuffle=True\n",
    "    )\n",
    "    \n",
    "    validation_generator = val_datagen.flow_from_directory(\n",
    "        val_dir,\n",
    "        target_size=image_size,\n",
    "        batch_size=batch_size,\n",
    "        class_mode='categorical',\n",
    "        shuffle=False\n",
    "    )\n",
    "    \n",
    "    test_generator = test_datagen.flow_from_directory(\n",
    "        test_dir,\n",
    "        target_size=image_size,\n",
    "        batch_size=batch_size,\n",
    "        class_mode='categorical',\n",
    "        shuffle=False\n",
    "    )\n",
    "    \n",
    "    return train_generator, validation_generator, test_generator"
   ]
  },
  {
   "cell_type": "markdown",
   "id": "b60bb473",
   "metadata": {},
   "source": [
    "  # ** Build the model**"
   ]
  },
  {
   "cell_type": "code",
   "execution_count": 2,
   "id": "cebebafb",
   "metadata": {},
   "outputs": [],
   "source": [
    "def build_model(base_model_class, preprocess_fn, num_classes, input_shape=(224, 224, 3)):\n",
    "    \"\"\"Create a transfer learning model with the given base model\"\"\"\n",
    "    # Create the base model\n",
    "    base_model = base_model_class(\n",
    "        include_top=False, \n",
    "        weights='imagenet',\n",
    "        input_shape=input_shape\n",
    "    )\n",
    "    \n",
    "    # Freeze the base model\n",
    "    base_model.trainable = False\n",
    "    \n",
    "    # Create new model on top\n",
    "    inputs = tf.keras.Input(shape=input_shape)\n",
    "    x = preprocess_fn(inputs)\n",
    "    x = base_model(x, training=False)\n",
    "    x = GlobalAveragePooling2D()(x)\n",
    "    x = Dense(1024, activation='relu')(x)\n",
    "    x = Dropout(0.5)(x)\n",
    "    outputs = Dense(num_classes, activation='softmax')(x)\n",
    "    \n",
    "    model = Model(inputs, outputs)\n",
    "    \n",
    "    # Compile the model\n",
    "    model.compile(\n",
    "        optimizer=Adam(learning_rate=0.001),\n",
    "        loss='categorical_crossentropy',\n",
    "        metrics=['accuracy']\n",
    "    )\n",
    "    \n",
    "    return model"
   ]
  },
  {
   "cell_type": "code",
   "execution_count": 13,
   "id": "1f16923b",
   "metadata": {},
   "outputs": [
    {
     "name": "stdout",
     "output_type": "stream",
     "text": [
      "Found 7749 images belonging to 4 classes.\n",
      "Found 861 images belonging to 4 classes.\n",
      "Found 1182 images belonging to 4 classes.\n"
     ]
    }
   ],
   "source": [
    "train_dir, val_dir, test_dir = r\"F:\\Rough preprocess image\\train\",r\"F:\\Rough preprocess image\\validation\",r\"F:\\Rough preprocess image\\test\"\n",
    "train_gen,val_gen, test_gen =setup_datagenerator(train_dir, val_dir, test_dir,preprocess_input)"
   ]
  }
 ],
 "metadata": {
  "kernelspec": {
   "display_name": "base",
   "language": "python",
   "name": "python3"
  },
  "language_info": {
   "codemirror_mode": {
    "name": "ipython",
    "version": 3
   },
   "file_extension": ".py",
   "mimetype": "text/x-python",
   "name": "python",
   "nbconvert_exporter": "python",
   "pygments_lexer": "ipython3",
   "version": "3.11.7"
  }
 },
 "nbformat": 4,
 "nbformat_minor": 5
}
