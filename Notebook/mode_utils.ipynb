{
 "cells": [
  {
   "cell_type": "markdown",
   "id": "0bcdf899",
   "metadata": {},
   "source": [
    "  # **Prepart the data for the models**"
   ]
  },
  {
   "cell_type": "code",
   "execution_count": 1,
   "id": "d33ef875",
   "metadata": {},
   "outputs": [],
   "source": [
    "# model_utils.py\n",
    "from tensorflow.keras.preprocessing.image import ImageDataGenerator\n",
    "\n",
    "def setup_datagenerator(train_dir, val_dir, test_dir, preprocess_fn, batch_size=32, image_size=(224, 224)):\n",
    "    \"\"\"\n",
    "    Create and configure data generators for the model.\n",
    "    \n",
    "    Parameters:\n",
    "    - train_dir: Path to training data directory\n",
    "    - val_dir: Path to validation data directory\n",
    "    - test_dir: Path to test data directory\n",
    "    - preprocess_fn: Preprocessing function to apply to images\n",
    "    - batch_size: Batch size for generators (default: 32)\n",
    "    - image_size: Target image size as (height, width) (default: (224, 224))\n",
    "    \n",
    "    Returns:\n",
    "    - train_generator: Training data generator\n",
    "    - validation_generator: Validation data generator\n",
    "    - test_generator: Test data generator\n",
    "    \"\"\"\n",
    "    # Create data generators with appropriate preprocessing\n",
    "    train_datagen = ImageDataGenerator(\n",
    "        rescale=1./255,\n",
    "        preprocessing_function=preprocess_fn\n",
    "    )\n",
    "    \n",
    "    # Validation and test generators don't need rescaling if preprocess_fn handles it\n",
    "    val_datagen = ImageDataGenerator(preprocessing_function=preprocess_fn)\n",
    "    test_datagen = ImageDataGenerator(preprocessing_function=preprocess_fn)\n",
    "    \n",
    "    # Create generators\n",
    "    train_generator = train_datagen.flow_from_directory(\n",
    "        train_dir,\n",
    "        target_size=image_size,\n",
    "        batch_size=batch_size,\n",
    "        class_mode='categorical',\n",
    "        shuffle=True\n",
    "    )\n",
    "    \n",
    "    validation_generator = val_datagen.flow_from_directory(\n",
    "        val_dir,\n",
    "        target_size=image_size,\n",
    "        batch_size=batch_size,\n",
    "        class_mode='categorical',\n",
    "        shuffle=False\n",
    "    )\n",
    "    \n",
    "    test_generator = test_datagen.flow_from_directory(\n",
    "        test_dir,\n",
    "        target_size=image_size,\n",
    "        batch_size=batch_size,\n",
    "        class_mode='categorical',\n",
    "        shuffle=False\n",
    "    )\n",
    "    \n",
    "    return train_generator, validation_generator, test_generator"
   ]
  }
 ],
 "metadata": {
  "kernelspec": {
   "display_name": "base",
   "language": "python",
   "name": "python3"
  },
  "language_info": {
   "codemirror_mode": {
    "name": "ipython",
    "version": 3
   },
   "file_extension": ".py",
   "mimetype": "text/x-python",
   "name": "python",
   "nbconvert_exporter": "python",
   "pygments_lexer": "ipython3",
   "version": "3.11.7"
  }
 },
 "nbformat": 4,
 "nbformat_minor": 5
}
